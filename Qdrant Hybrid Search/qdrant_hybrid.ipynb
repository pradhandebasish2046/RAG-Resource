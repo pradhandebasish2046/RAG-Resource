{
  "nbformat": 4,
  "nbformat_minor": 0,
  "metadata": {
    "colab": {
      "provenance": []
    },
    "kernelspec": {
      "name": "python3",
      "display_name": "Python 3"
    },
    "language_info": {
      "name": "python"
    },
    "widgets": {
      "application/vnd.jupyter.widget-state+json": {
        "e434eee21d354655846e62fa7b3d87fb": {
          "model_module": "@jupyter-widgets/controls",
          "model_name": "HBoxModel",
          "model_module_version": "1.5.0",
          "state": {
            "_dom_classes": [],
            "_model_module": "@jupyter-widgets/controls",
            "_model_module_version": "1.5.0",
            "_model_name": "HBoxModel",
            "_view_count": null,
            "_view_module": "@jupyter-widgets/controls",
            "_view_module_version": "1.5.0",
            "_view_name": "HBoxView",
            "box_style": "",
            "children": [
              "IPY_MODEL_25c45c55eee94cf383aa08e2d25a46b7",
              "IPY_MODEL_4a4a72e4f77d451b94ddb31467b456f6",
              "IPY_MODEL_834cd0cec6074022ba661b20391f0e1d"
            ],
            "layout": "IPY_MODEL_ba17f6237ff04a07b53bf3e0ef4a90f6"
          }
        },
        "25c45c55eee94cf383aa08e2d25a46b7": {
          "model_module": "@jupyter-widgets/controls",
          "model_name": "HTMLModel",
          "model_module_version": "1.5.0",
          "state": {
            "_dom_classes": [],
            "_model_module": "@jupyter-widgets/controls",
            "_model_module_version": "1.5.0",
            "_model_name": "HTMLModel",
            "_view_count": null,
            "_view_module": "@jupyter-widgets/controls",
            "_view_module_version": "1.5.0",
            "_view_name": "HTMLView",
            "description": "",
            "description_tooltip": null,
            "layout": "IPY_MODEL_ff0c4ca68dd5468f99cfd29ed90812ea",
            "placeholder": "​",
            "style": "IPY_MODEL_8710a19a49a143268b9e1614a865d54c",
            "value": "Fetching 5 files: 100%"
          }
        },
        "4a4a72e4f77d451b94ddb31467b456f6": {
          "model_module": "@jupyter-widgets/controls",
          "model_name": "FloatProgressModel",
          "model_module_version": "1.5.0",
          "state": {
            "_dom_classes": [],
            "_model_module": "@jupyter-widgets/controls",
            "_model_module_version": "1.5.0",
            "_model_name": "FloatProgressModel",
            "_view_count": null,
            "_view_module": "@jupyter-widgets/controls",
            "_view_module_version": "1.5.0",
            "_view_name": "ProgressView",
            "bar_style": "success",
            "description": "",
            "description_tooltip": null,
            "layout": "IPY_MODEL_c8550d85ecbe42ba9db0faa56d092860",
            "max": 5,
            "min": 0,
            "orientation": "horizontal",
            "style": "IPY_MODEL_9d3d5db7941b4279a5d2b7b8db7515d0",
            "value": 5
          }
        },
        "834cd0cec6074022ba661b20391f0e1d": {
          "model_module": "@jupyter-widgets/controls",
          "model_name": "HTMLModel",
          "model_module_version": "1.5.0",
          "state": {
            "_dom_classes": [],
            "_model_module": "@jupyter-widgets/controls",
            "_model_module_version": "1.5.0",
            "_model_name": "HTMLModel",
            "_view_count": null,
            "_view_module": "@jupyter-widgets/controls",
            "_view_module_version": "1.5.0",
            "_view_name": "HTMLView",
            "description": "",
            "description_tooltip": null,
            "layout": "IPY_MODEL_108d139fe5464fd6a7afa7bbb688f04f",
            "placeholder": "​",
            "style": "IPY_MODEL_923e18866652414db0414ab57f4391e7",
            "value": " 5/5 [00:00&lt;00:00, 249.65it/s]"
          }
        },
        "ba17f6237ff04a07b53bf3e0ef4a90f6": {
          "model_module": "@jupyter-widgets/base",
          "model_name": "LayoutModel",
          "model_module_version": "1.2.0",
          "state": {
            "_model_module": "@jupyter-widgets/base",
            "_model_module_version": "1.2.0",
            "_model_name": "LayoutModel",
            "_view_count": null,
            "_view_module": "@jupyter-widgets/base",
            "_view_module_version": "1.2.0",
            "_view_name": "LayoutView",
            "align_content": null,
            "align_items": null,
            "align_self": null,
            "border": null,
            "bottom": null,
            "display": null,
            "flex": null,
            "flex_flow": null,
            "grid_area": null,
            "grid_auto_columns": null,
            "grid_auto_flow": null,
            "grid_auto_rows": null,
            "grid_column": null,
            "grid_gap": null,
            "grid_row": null,
            "grid_template_areas": null,
            "grid_template_columns": null,
            "grid_template_rows": null,
            "height": null,
            "justify_content": null,
            "justify_items": null,
            "left": null,
            "margin": null,
            "max_height": null,
            "max_width": null,
            "min_height": null,
            "min_width": null,
            "object_fit": null,
            "object_position": null,
            "order": null,
            "overflow": null,
            "overflow_x": null,
            "overflow_y": null,
            "padding": null,
            "right": null,
            "top": null,
            "visibility": null,
            "width": null
          }
        },
        "ff0c4ca68dd5468f99cfd29ed90812ea": {
          "model_module": "@jupyter-widgets/base",
          "model_name": "LayoutModel",
          "model_module_version": "1.2.0",
          "state": {
            "_model_module": "@jupyter-widgets/base",
            "_model_module_version": "1.2.0",
            "_model_name": "LayoutModel",
            "_view_count": null,
            "_view_module": "@jupyter-widgets/base",
            "_view_module_version": "1.2.0",
            "_view_name": "LayoutView",
            "align_content": null,
            "align_items": null,
            "align_self": null,
            "border": null,
            "bottom": null,
            "display": null,
            "flex": null,
            "flex_flow": null,
            "grid_area": null,
            "grid_auto_columns": null,
            "grid_auto_flow": null,
            "grid_auto_rows": null,
            "grid_column": null,
            "grid_gap": null,
            "grid_row": null,
            "grid_template_areas": null,
            "grid_template_columns": null,
            "grid_template_rows": null,
            "height": null,
            "justify_content": null,
            "justify_items": null,
            "left": null,
            "margin": null,
            "max_height": null,
            "max_width": null,
            "min_height": null,
            "min_width": null,
            "object_fit": null,
            "object_position": null,
            "order": null,
            "overflow": null,
            "overflow_x": null,
            "overflow_y": null,
            "padding": null,
            "right": null,
            "top": null,
            "visibility": null,
            "width": null
          }
        },
        "8710a19a49a143268b9e1614a865d54c": {
          "model_module": "@jupyter-widgets/controls",
          "model_name": "DescriptionStyleModel",
          "model_module_version": "1.5.0",
          "state": {
            "_model_module": "@jupyter-widgets/controls",
            "_model_module_version": "1.5.0",
            "_model_name": "DescriptionStyleModel",
            "_view_count": null,
            "_view_module": "@jupyter-widgets/base",
            "_view_module_version": "1.2.0",
            "_view_name": "StyleView",
            "description_width": ""
          }
        },
        "c8550d85ecbe42ba9db0faa56d092860": {
          "model_module": "@jupyter-widgets/base",
          "model_name": "LayoutModel",
          "model_module_version": "1.2.0",
          "state": {
            "_model_module": "@jupyter-widgets/base",
            "_model_module_version": "1.2.0",
            "_model_name": "LayoutModel",
            "_view_count": null,
            "_view_module": "@jupyter-widgets/base",
            "_view_module_version": "1.2.0",
            "_view_name": "LayoutView",
            "align_content": null,
            "align_items": null,
            "align_self": null,
            "border": null,
            "bottom": null,
            "display": null,
            "flex": null,
            "flex_flow": null,
            "grid_area": null,
            "grid_auto_columns": null,
            "grid_auto_flow": null,
            "grid_auto_rows": null,
            "grid_column": null,
            "grid_gap": null,
            "grid_row": null,
            "grid_template_areas": null,
            "grid_template_columns": null,
            "grid_template_rows": null,
            "height": null,
            "justify_content": null,
            "justify_items": null,
            "left": null,
            "margin": null,
            "max_height": null,
            "max_width": null,
            "min_height": null,
            "min_width": null,
            "object_fit": null,
            "object_position": null,
            "order": null,
            "overflow": null,
            "overflow_x": null,
            "overflow_y": null,
            "padding": null,
            "right": null,
            "top": null,
            "visibility": null,
            "width": null
          }
        },
        "9d3d5db7941b4279a5d2b7b8db7515d0": {
          "model_module": "@jupyter-widgets/controls",
          "model_name": "ProgressStyleModel",
          "model_module_version": "1.5.0",
          "state": {
            "_model_module": "@jupyter-widgets/controls",
            "_model_module_version": "1.5.0",
            "_model_name": "ProgressStyleModel",
            "_view_count": null,
            "_view_module": "@jupyter-widgets/base",
            "_view_module_version": "1.2.0",
            "_view_name": "StyleView",
            "bar_color": null,
            "description_width": ""
          }
        },
        "108d139fe5464fd6a7afa7bbb688f04f": {
          "model_module": "@jupyter-widgets/base",
          "model_name": "LayoutModel",
          "model_module_version": "1.2.0",
          "state": {
            "_model_module": "@jupyter-widgets/base",
            "_model_module_version": "1.2.0",
            "_model_name": "LayoutModel",
            "_view_count": null,
            "_view_module": "@jupyter-widgets/base",
            "_view_module_version": "1.2.0",
            "_view_name": "LayoutView",
            "align_content": null,
            "align_items": null,
            "align_self": null,
            "border": null,
            "bottom": null,
            "display": null,
            "flex": null,
            "flex_flow": null,
            "grid_area": null,
            "grid_auto_columns": null,
            "grid_auto_flow": null,
            "grid_auto_rows": null,
            "grid_column": null,
            "grid_gap": null,
            "grid_row": null,
            "grid_template_areas": null,
            "grid_template_columns": null,
            "grid_template_rows": null,
            "height": null,
            "justify_content": null,
            "justify_items": null,
            "left": null,
            "margin": null,
            "max_height": null,
            "max_width": null,
            "min_height": null,
            "min_width": null,
            "object_fit": null,
            "object_position": null,
            "order": null,
            "overflow": null,
            "overflow_x": null,
            "overflow_y": null,
            "padding": null,
            "right": null,
            "top": null,
            "visibility": null,
            "width": null
          }
        },
        "923e18866652414db0414ab57f4391e7": {
          "model_module": "@jupyter-widgets/controls",
          "model_name": "DescriptionStyleModel",
          "model_module_version": "1.5.0",
          "state": {
            "_model_module": "@jupyter-widgets/controls",
            "_model_module_version": "1.5.0",
            "_model_name": "DescriptionStyleModel",
            "_view_count": null,
            "_view_module": "@jupyter-widgets/base",
            "_view_module_version": "1.2.0",
            "_view_name": "StyleView",
            "description_width": ""
          }
        },
        "82f264ddc42e420b9c073d7fab8b56d3": {
          "model_module": "@jupyter-widgets/controls",
          "model_name": "HBoxModel",
          "model_module_version": "1.5.0",
          "state": {
            "_dom_classes": [],
            "_model_module": "@jupyter-widgets/controls",
            "_model_module_version": "1.5.0",
            "_model_name": "HBoxModel",
            "_view_count": null,
            "_view_module": "@jupyter-widgets/controls",
            "_view_module_version": "1.5.0",
            "_view_name": "HBoxView",
            "box_style": "",
            "children": [
              "IPY_MODEL_f07617ef839e4736a0a9752010450d1d",
              "IPY_MODEL_8def56f1e74d413aa43a0f842d821091",
              "IPY_MODEL_b6a85a8e8d094ce49a94286fca91a4f8"
            ],
            "layout": "IPY_MODEL_a0717b3d04c3463d9845deef8c208a4f"
          }
        },
        "f07617ef839e4736a0a9752010450d1d": {
          "model_module": "@jupyter-widgets/controls",
          "model_name": "HTMLModel",
          "model_module_version": "1.5.0",
          "state": {
            "_dom_classes": [],
            "_model_module": "@jupyter-widgets/controls",
            "_model_module_version": "1.5.0",
            "_model_name": "HTMLModel",
            "_view_count": null,
            "_view_module": "@jupyter-widgets/controls",
            "_view_module_version": "1.5.0",
            "_view_name": "HTMLView",
            "description": "",
            "description_tooltip": null,
            "layout": "IPY_MODEL_62e50f7edabb4705a1104f25531d722f",
            "placeholder": "​",
            "style": "IPY_MODEL_dbbf0f44da9c4fc9850305e4f5c2899e",
            "value": "Fetching 5 files: 100%"
          }
        },
        "8def56f1e74d413aa43a0f842d821091": {
          "model_module": "@jupyter-widgets/controls",
          "model_name": "FloatProgressModel",
          "model_module_version": "1.5.0",
          "state": {
            "_dom_classes": [],
            "_model_module": "@jupyter-widgets/controls",
            "_model_module_version": "1.5.0",
            "_model_name": "FloatProgressModel",
            "_view_count": null,
            "_view_module": "@jupyter-widgets/controls",
            "_view_module_version": "1.5.0",
            "_view_name": "ProgressView",
            "bar_style": "success",
            "description": "",
            "description_tooltip": null,
            "layout": "IPY_MODEL_4186f8f3a4044b2389f6794fe6532f99",
            "max": 5,
            "min": 0,
            "orientation": "horizontal",
            "style": "IPY_MODEL_3ff24aaf1f8d4e99b420f32393530760",
            "value": 5
          }
        },
        "b6a85a8e8d094ce49a94286fca91a4f8": {
          "model_module": "@jupyter-widgets/controls",
          "model_name": "HTMLModel",
          "model_module_version": "1.5.0",
          "state": {
            "_dom_classes": [],
            "_model_module": "@jupyter-widgets/controls",
            "_model_module_version": "1.5.0",
            "_model_name": "HTMLModel",
            "_view_count": null,
            "_view_module": "@jupyter-widgets/controls",
            "_view_module_version": "1.5.0",
            "_view_name": "HTMLView",
            "description": "",
            "description_tooltip": null,
            "layout": "IPY_MODEL_b31637d392d643cbaf07098fe099d6b5",
            "placeholder": "​",
            "style": "IPY_MODEL_deacec773e4244c294f844a0b09f4093",
            "value": " 5/5 [00:00&lt;00:00,  9.82it/s]"
          }
        },
        "a0717b3d04c3463d9845deef8c208a4f": {
          "model_module": "@jupyter-widgets/base",
          "model_name": "LayoutModel",
          "model_module_version": "1.2.0",
          "state": {
            "_model_module": "@jupyter-widgets/base",
            "_model_module_version": "1.2.0",
            "_model_name": "LayoutModel",
            "_view_count": null,
            "_view_module": "@jupyter-widgets/base",
            "_view_module_version": "1.2.0",
            "_view_name": "LayoutView",
            "align_content": null,
            "align_items": null,
            "align_self": null,
            "border": null,
            "bottom": null,
            "display": null,
            "flex": null,
            "flex_flow": null,
            "grid_area": null,
            "grid_auto_columns": null,
            "grid_auto_flow": null,
            "grid_auto_rows": null,
            "grid_column": null,
            "grid_gap": null,
            "grid_row": null,
            "grid_template_areas": null,
            "grid_template_columns": null,
            "grid_template_rows": null,
            "height": null,
            "justify_content": null,
            "justify_items": null,
            "left": null,
            "margin": null,
            "max_height": null,
            "max_width": null,
            "min_height": null,
            "min_width": null,
            "object_fit": null,
            "object_position": null,
            "order": null,
            "overflow": null,
            "overflow_x": null,
            "overflow_y": null,
            "padding": null,
            "right": null,
            "top": null,
            "visibility": null,
            "width": null
          }
        },
        "62e50f7edabb4705a1104f25531d722f": {
          "model_module": "@jupyter-widgets/base",
          "model_name": "LayoutModel",
          "model_module_version": "1.2.0",
          "state": {
            "_model_module": "@jupyter-widgets/base",
            "_model_module_version": "1.2.0",
            "_model_name": "LayoutModel",
            "_view_count": null,
            "_view_module": "@jupyter-widgets/base",
            "_view_module_version": "1.2.0",
            "_view_name": "LayoutView",
            "align_content": null,
            "align_items": null,
            "align_self": null,
            "border": null,
            "bottom": null,
            "display": null,
            "flex": null,
            "flex_flow": null,
            "grid_area": null,
            "grid_auto_columns": null,
            "grid_auto_flow": null,
            "grid_auto_rows": null,
            "grid_column": null,
            "grid_gap": null,
            "grid_row": null,
            "grid_template_areas": null,
            "grid_template_columns": null,
            "grid_template_rows": null,
            "height": null,
            "justify_content": null,
            "justify_items": null,
            "left": null,
            "margin": null,
            "max_height": null,
            "max_width": null,
            "min_height": null,
            "min_width": null,
            "object_fit": null,
            "object_position": null,
            "order": null,
            "overflow": null,
            "overflow_x": null,
            "overflow_y": null,
            "padding": null,
            "right": null,
            "top": null,
            "visibility": null,
            "width": null
          }
        },
        "dbbf0f44da9c4fc9850305e4f5c2899e": {
          "model_module": "@jupyter-widgets/controls",
          "model_name": "DescriptionStyleModel",
          "model_module_version": "1.5.0",
          "state": {
            "_model_module": "@jupyter-widgets/controls",
            "_model_module_version": "1.5.0",
            "_model_name": "DescriptionStyleModel",
            "_view_count": null,
            "_view_module": "@jupyter-widgets/base",
            "_view_module_version": "1.2.0",
            "_view_name": "StyleView",
            "description_width": ""
          }
        },
        "4186f8f3a4044b2389f6794fe6532f99": {
          "model_module": "@jupyter-widgets/base",
          "model_name": "LayoutModel",
          "model_module_version": "1.2.0",
          "state": {
            "_model_module": "@jupyter-widgets/base",
            "_model_module_version": "1.2.0",
            "_model_name": "LayoutModel",
            "_view_count": null,
            "_view_module": "@jupyter-widgets/base",
            "_view_module_version": "1.2.0",
            "_view_name": "LayoutView",
            "align_content": null,
            "align_items": null,
            "align_self": null,
            "border": null,
            "bottom": null,
            "display": null,
            "flex": null,
            "flex_flow": null,
            "grid_area": null,
            "grid_auto_columns": null,
            "grid_auto_flow": null,
            "grid_auto_rows": null,
            "grid_column": null,
            "grid_gap": null,
            "grid_row": null,
            "grid_template_areas": null,
            "grid_template_columns": null,
            "grid_template_rows": null,
            "height": null,
            "justify_content": null,
            "justify_items": null,
            "left": null,
            "margin": null,
            "max_height": null,
            "max_width": null,
            "min_height": null,
            "min_width": null,
            "object_fit": null,
            "object_position": null,
            "order": null,
            "overflow": null,
            "overflow_x": null,
            "overflow_y": null,
            "padding": null,
            "right": null,
            "top": null,
            "visibility": null,
            "width": null
          }
        },
        "3ff24aaf1f8d4e99b420f32393530760": {
          "model_module": "@jupyter-widgets/controls",
          "model_name": "ProgressStyleModel",
          "model_module_version": "1.5.0",
          "state": {
            "_model_module": "@jupyter-widgets/controls",
            "_model_module_version": "1.5.0",
            "_model_name": "ProgressStyleModel",
            "_view_count": null,
            "_view_module": "@jupyter-widgets/base",
            "_view_module_version": "1.2.0",
            "_view_name": "StyleView",
            "bar_color": null,
            "description_width": ""
          }
        },
        "b31637d392d643cbaf07098fe099d6b5": {
          "model_module": "@jupyter-widgets/base",
          "model_name": "LayoutModel",
          "model_module_version": "1.2.0",
          "state": {
            "_model_module": "@jupyter-widgets/base",
            "_model_module_version": "1.2.0",
            "_model_name": "LayoutModel",
            "_view_count": null,
            "_view_module": "@jupyter-widgets/base",
            "_view_module_version": "1.2.0",
            "_view_name": "LayoutView",
            "align_content": null,
            "align_items": null,
            "align_self": null,
            "border": null,
            "bottom": null,
            "display": null,
            "flex": null,
            "flex_flow": null,
            "grid_area": null,
            "grid_auto_columns": null,
            "grid_auto_flow": null,
            "grid_auto_rows": null,
            "grid_column": null,
            "grid_gap": null,
            "grid_row": null,
            "grid_template_areas": null,
            "grid_template_columns": null,
            "grid_template_rows": null,
            "height": null,
            "justify_content": null,
            "justify_items": null,
            "left": null,
            "margin": null,
            "max_height": null,
            "max_width": null,
            "min_height": null,
            "min_width": null,
            "object_fit": null,
            "object_position": null,
            "order": null,
            "overflow": null,
            "overflow_x": null,
            "overflow_y": null,
            "padding": null,
            "right": null,
            "top": null,
            "visibility": null,
            "width": null
          }
        },
        "deacec773e4244c294f844a0b09f4093": {
          "model_module": "@jupyter-widgets/controls",
          "model_name": "DescriptionStyleModel",
          "model_module_version": "1.5.0",
          "state": {
            "_model_module": "@jupyter-widgets/controls",
            "_model_module_version": "1.5.0",
            "_model_name": "DescriptionStyleModel",
            "_view_count": null,
            "_view_module": "@jupyter-widgets/base",
            "_view_module_version": "1.2.0",
            "_view_name": "StyleView",
            "description_width": ""
          }
        },
        "bf849dcba0c74c81a326c4d67c1971a2": {
          "model_module": "@jupyter-widgets/controls",
          "model_name": "HBoxModel",
          "model_module_version": "1.5.0",
          "state": {
            "_dom_classes": [],
            "_model_module": "@jupyter-widgets/controls",
            "_model_module_version": "1.5.0",
            "_model_name": "HBoxModel",
            "_view_count": null,
            "_view_module": "@jupyter-widgets/controls",
            "_view_module_version": "1.5.0",
            "_view_name": "HBoxView",
            "box_style": "",
            "children": [
              "IPY_MODEL_fbfe9efe3da14975b1036518b8ce777c",
              "IPY_MODEL_5b7b2ff8a43540118a1c1a9247c75103",
              "IPY_MODEL_8fa1d49a263d4fd99b2ad7d7a874aa00"
            ],
            "layout": "IPY_MODEL_0b73085ccd4c43e4bb987d350b407da9"
          }
        },
        "fbfe9efe3da14975b1036518b8ce777c": {
          "model_module": "@jupyter-widgets/controls",
          "model_name": "HTMLModel",
          "model_module_version": "1.5.0",
          "state": {
            "_dom_classes": [],
            "_model_module": "@jupyter-widgets/controls",
            "_model_module_version": "1.5.0",
            "_model_name": "HTMLModel",
            "_view_count": null,
            "_view_module": "@jupyter-widgets/controls",
            "_view_module_version": "1.5.0",
            "_view_name": "HTMLView",
            "description": "",
            "description_tooltip": null,
            "layout": "IPY_MODEL_84d0798dbca742c6a7fee0c1302a691d",
            "placeholder": "​",
            "style": "IPY_MODEL_a09742ad37b54c2c98a316938ff24f38",
            "value": "Fetching 5 files: 100%"
          }
        },
        "5b7b2ff8a43540118a1c1a9247c75103": {
          "model_module": "@jupyter-widgets/controls",
          "model_name": "FloatProgressModel",
          "model_module_version": "1.5.0",
          "state": {
            "_dom_classes": [],
            "_model_module": "@jupyter-widgets/controls",
            "_model_module_version": "1.5.0",
            "_model_name": "FloatProgressModel",
            "_view_count": null,
            "_view_module": "@jupyter-widgets/controls",
            "_view_module_version": "1.5.0",
            "_view_name": "ProgressView",
            "bar_style": "success",
            "description": "",
            "description_tooltip": null,
            "layout": "IPY_MODEL_c0595436d2554dd3a8d48316d1ec1466",
            "max": 5,
            "min": 0,
            "orientation": "horizontal",
            "style": "IPY_MODEL_ff9b9bdcffe9453695ac1ab6657fa487",
            "value": 5
          }
        },
        "8fa1d49a263d4fd99b2ad7d7a874aa00": {
          "model_module": "@jupyter-widgets/controls",
          "model_name": "HTMLModel",
          "model_module_version": "1.5.0",
          "state": {
            "_dom_classes": [],
            "_model_module": "@jupyter-widgets/controls",
            "_model_module_version": "1.5.0",
            "_model_name": "HTMLModel",
            "_view_count": null,
            "_view_module": "@jupyter-widgets/controls",
            "_view_module_version": "1.5.0",
            "_view_name": "HTMLView",
            "description": "",
            "description_tooltip": null,
            "layout": "IPY_MODEL_d5a3889af098490ba0b13df5b1476374",
            "placeholder": "​",
            "style": "IPY_MODEL_95c3f162b1a0401e95b800dda03b8953",
            "value": " 5/5 [00:00&lt;00:00, 69.37it/s]"
          }
        },
        "0b73085ccd4c43e4bb987d350b407da9": {
          "model_module": "@jupyter-widgets/base",
          "model_name": "LayoutModel",
          "model_module_version": "1.2.0",
          "state": {
            "_model_module": "@jupyter-widgets/base",
            "_model_module_version": "1.2.0",
            "_model_name": "LayoutModel",
            "_view_count": null,
            "_view_module": "@jupyter-widgets/base",
            "_view_module_version": "1.2.0",
            "_view_name": "LayoutView",
            "align_content": null,
            "align_items": null,
            "align_self": null,
            "border": null,
            "bottom": null,
            "display": null,
            "flex": null,
            "flex_flow": null,
            "grid_area": null,
            "grid_auto_columns": null,
            "grid_auto_flow": null,
            "grid_auto_rows": null,
            "grid_column": null,
            "grid_gap": null,
            "grid_row": null,
            "grid_template_areas": null,
            "grid_template_columns": null,
            "grid_template_rows": null,
            "height": null,
            "justify_content": null,
            "justify_items": null,
            "left": null,
            "margin": null,
            "max_height": null,
            "max_width": null,
            "min_height": null,
            "min_width": null,
            "object_fit": null,
            "object_position": null,
            "order": null,
            "overflow": null,
            "overflow_x": null,
            "overflow_y": null,
            "padding": null,
            "right": null,
            "top": null,
            "visibility": null,
            "width": null
          }
        },
        "84d0798dbca742c6a7fee0c1302a691d": {
          "model_module": "@jupyter-widgets/base",
          "model_name": "LayoutModel",
          "model_module_version": "1.2.0",
          "state": {
            "_model_module": "@jupyter-widgets/base",
            "_model_module_version": "1.2.0",
            "_model_name": "LayoutModel",
            "_view_count": null,
            "_view_module": "@jupyter-widgets/base",
            "_view_module_version": "1.2.0",
            "_view_name": "LayoutView",
            "align_content": null,
            "align_items": null,
            "align_self": null,
            "border": null,
            "bottom": null,
            "display": null,
            "flex": null,
            "flex_flow": null,
            "grid_area": null,
            "grid_auto_columns": null,
            "grid_auto_flow": null,
            "grid_auto_rows": null,
            "grid_column": null,
            "grid_gap": null,
            "grid_row": null,
            "grid_template_areas": null,
            "grid_template_columns": null,
            "grid_template_rows": null,
            "height": null,
            "justify_content": null,
            "justify_items": null,
            "left": null,
            "margin": null,
            "max_height": null,
            "max_width": null,
            "min_height": null,
            "min_width": null,
            "object_fit": null,
            "object_position": null,
            "order": null,
            "overflow": null,
            "overflow_x": null,
            "overflow_y": null,
            "padding": null,
            "right": null,
            "top": null,
            "visibility": null,
            "width": null
          }
        },
        "a09742ad37b54c2c98a316938ff24f38": {
          "model_module": "@jupyter-widgets/controls",
          "model_name": "DescriptionStyleModel",
          "model_module_version": "1.5.0",
          "state": {
            "_model_module": "@jupyter-widgets/controls",
            "_model_module_version": "1.5.0",
            "_model_name": "DescriptionStyleModel",
            "_view_count": null,
            "_view_module": "@jupyter-widgets/base",
            "_view_module_version": "1.2.0",
            "_view_name": "StyleView",
            "description_width": ""
          }
        },
        "c0595436d2554dd3a8d48316d1ec1466": {
          "model_module": "@jupyter-widgets/base",
          "model_name": "LayoutModel",
          "model_module_version": "1.2.0",
          "state": {
            "_model_module": "@jupyter-widgets/base",
            "_model_module_version": "1.2.0",
            "_model_name": "LayoutModel",
            "_view_count": null,
            "_view_module": "@jupyter-widgets/base",
            "_view_module_version": "1.2.0",
            "_view_name": "LayoutView",
            "align_content": null,
            "align_items": null,
            "align_self": null,
            "border": null,
            "bottom": null,
            "display": null,
            "flex": null,
            "flex_flow": null,
            "grid_area": null,
            "grid_auto_columns": null,
            "grid_auto_flow": null,
            "grid_auto_rows": null,
            "grid_column": null,
            "grid_gap": null,
            "grid_row": null,
            "grid_template_areas": null,
            "grid_template_columns": null,
            "grid_template_rows": null,
            "height": null,
            "justify_content": null,
            "justify_items": null,
            "left": null,
            "margin": null,
            "max_height": null,
            "max_width": null,
            "min_height": null,
            "min_width": null,
            "object_fit": null,
            "object_position": null,
            "order": null,
            "overflow": null,
            "overflow_x": null,
            "overflow_y": null,
            "padding": null,
            "right": null,
            "top": null,
            "visibility": null,
            "width": null
          }
        },
        "ff9b9bdcffe9453695ac1ab6657fa487": {
          "model_module": "@jupyter-widgets/controls",
          "model_name": "ProgressStyleModel",
          "model_module_version": "1.5.0",
          "state": {
            "_model_module": "@jupyter-widgets/controls",
            "_model_module_version": "1.5.0",
            "_model_name": "ProgressStyleModel",
            "_view_count": null,
            "_view_module": "@jupyter-widgets/base",
            "_view_module_version": "1.2.0",
            "_view_name": "StyleView",
            "bar_color": null,
            "description_width": ""
          }
        },
        "d5a3889af098490ba0b13df5b1476374": {
          "model_module": "@jupyter-widgets/base",
          "model_name": "LayoutModel",
          "model_module_version": "1.2.0",
          "state": {
            "_model_module": "@jupyter-widgets/base",
            "_model_module_version": "1.2.0",
            "_model_name": "LayoutModel",
            "_view_count": null,
            "_view_module": "@jupyter-widgets/base",
            "_view_module_version": "1.2.0",
            "_view_name": "LayoutView",
            "align_content": null,
            "align_items": null,
            "align_self": null,
            "border": null,
            "bottom": null,
            "display": null,
            "flex": null,
            "flex_flow": null,
            "grid_area": null,
            "grid_auto_columns": null,
            "grid_auto_flow": null,
            "grid_auto_rows": null,
            "grid_column": null,
            "grid_gap": null,
            "grid_row": null,
            "grid_template_areas": null,
            "grid_template_columns": null,
            "grid_template_rows": null,
            "height": null,
            "justify_content": null,
            "justify_items": null,
            "left": null,
            "margin": null,
            "max_height": null,
            "max_width": null,
            "min_height": null,
            "min_width": null,
            "object_fit": null,
            "object_position": null,
            "order": null,
            "overflow": null,
            "overflow_x": null,
            "overflow_y": null,
            "padding": null,
            "right": null,
            "top": null,
            "visibility": null,
            "width": null
          }
        },
        "95c3f162b1a0401e95b800dda03b8953": {
          "model_module": "@jupyter-widgets/controls",
          "model_name": "DescriptionStyleModel",
          "model_module_version": "1.5.0",
          "state": {
            "_model_module": "@jupyter-widgets/controls",
            "_model_module_version": "1.5.0",
            "_model_name": "DescriptionStyleModel",
            "_view_count": null,
            "_view_module": "@jupyter-widgets/base",
            "_view_module_version": "1.2.0",
            "_view_name": "StyleView",
            "description_width": ""
          }
        }
      }
    }
  },
  "cells": [
    {
      "cell_type": "code",
      "source": [
        "!pip install qdrant-client fastembed langchain-core langchain-community\n",
        "!pip install pypdf\n",
        "!pip install tiktoken\n",
        "!pip install groq==0.9.0"
      ],
      "metadata": {
        "id": "OnT7TXdjDbsm"
      },
      "execution_count": null,
      "outputs": []
    },
    {
      "cell_type": "code",
      "source": [
        "from langchain_text_splitters import RecursiveCharacterTextSplitter\n",
        "from langchain_community.document_loaders import PyPDFLoader\n",
        "from qdrant_client import QdrantClient,models\n",
        "import os\n",
        "import tiktoken\n",
        "from uuid import uuid4\n",
        "from langchain_core.documents import Document\n",
        "from groq import Groq"
      ],
      "metadata": {
        "id": "0t1OsByfW5Y4"
      },
      "execution_count": null,
      "outputs": []
    },
    {
      "cell_type": "code",
      "source": [
        "# !rm -rf dense\n",
        "# !rm -rf hybrid\n",
        "# !rm -rf hybrid-data"
      ],
      "metadata": {
        "id": "MBi4gQmLEwn0"
      },
      "execution_count": 20,
      "outputs": []
    },
    {
      "cell_type": "code",
      "source": [
        "def num_tokens_from_string(string, encoding_name=\"cl100k_base\"):\n",
        "    encoding = tiktoken.get_encoding(encoding_name)\n",
        "    num_tokens = len(encoding.encode(string))\n",
        "    return num_tokens\n",
        "\n",
        "num_tokens_from_string(\"sample text\")"
      ],
      "metadata": {
        "colab": {
          "base_uri": "https://localhost:8080/"
        },
        "id": "SnVmD5YyWF4q",
        "outputId": "7e6e1a4b-08f7-4c70-a1de-bc601f280397"
      },
      "execution_count": 2,
      "outputs": [
        {
          "output_type": "execute_result",
          "data": {
            "text/plain": [
              "2"
            ]
          },
          "metadata": {},
          "execution_count": 2
        }
      ]
    },
    {
      "cell_type": "code",
      "source": [
        "text_splitter = RecursiveCharacterTextSplitter(\n",
        "    # Set a really small chunk size, just to show.\n",
        "    chunk_size=100,\n",
        "    chunk_overlap=10,\n",
        "    length_function=num_tokens_from_string,\n",
        "    is_separator_regex=True,\n",
        "    separators=[\n",
        "        \"\\n\\n\",\n",
        "        \"\\n\",\n",
        "        \" \",\n",
        "        \".\",\n",
        "        \",\",\n",
        "        \"\\u200b\",  # Zero-width space\n",
        "        \"\\uff0c\",  # Fullwidth comma\n",
        "        \"\\u3001\",  # Ideographic comma\n",
        "        \"\\uff0e\",  # Fullwidth full stop\n",
        "        \"\\u3002\",  # Ideographic full stop\n",
        "        \"\",\n",
        "    ],\n",
        ")"
      ],
      "metadata": {
        "id": "LWaYU3MCVTUZ"
      },
      "execution_count": 3,
      "outputs": []
    },
    {
      "cell_type": "code",
      "source": [
        "loader = PyPDFLoader(\"gemini.pdf\")\n",
        "list_of_documents = loader.load_and_split(text_splitter)\n",
        "len(list_of_documents)"
      ],
      "metadata": {
        "colab": {
          "base_uri": "https://localhost:8080/"
        },
        "id": "wHNgFnyoR0rP",
        "outputId": "342531b1-5ecd-404a-aad2-e0cc639f09ad"
      },
      "execution_count": 4,
      "outputs": [
        {
          "output_type": "execute_result",
          "data": {
            "text/plain": [
              "496"
            ]
          },
          "metadata": {},
          "execution_count": 4
        }
      ]
    },
    {
      "cell_type": "code",
      "source": [
        "import seaborn as sns\n",
        "import matplotlib.pyplot as plt\n",
        "\n",
        "# Your two lists of integers\n",
        "token_count = [num_tokens_from_string(doc.page_content) for doc in list_of_documents]\n",
        "length = [len(doc.page_content) for doc in list_of_documents]\n",
        "\n",
        "# Set the style and create a figure with two subplots\n",
        "sns.set(style=\"whitegrid\")\n",
        "plt.figure(figsize=(14, 6))\n",
        "\n",
        "# Left side plot for lst1\n",
        "plt.subplot(1, 2, 1)\n",
        "sns.lineplot(data=token_count, marker=\"o\", color=\"blue\")\n",
        "plt.title('Chunks Size Comparison using Tokens')\n",
        "plt.xlabel('Index')\n",
        "plt.ylabel('no of token')\n",
        "\n",
        "# Right side plot for lst2\n",
        "plt.subplot(1, 2, 2)\n",
        "sns.lineplot(data=length, marker=\"o\", color=\"green\")\n",
        "plt.title('Chunks Size Comparison using no of keywords')\n",
        "plt.xlabel('Index')\n",
        "plt.ylabel('no of keywords')\n",
        "\n",
        "# Show the plots\n",
        "plt.tight_layout()\n",
        "plt.show()"
      ],
      "metadata": {
        "colab": {
          "base_uri": "https://localhost:8080/",
          "height": 378
        },
        "id": "OnHwcyKklDsx",
        "outputId": "3a6caad7-8507-46f5-f20e-a57af9e8c81a"
      },
      "execution_count": 5,
      "outputs": [
        {
          "output_type": "display_data",
          "data": {
            "text/plain": [
              "<Figure size 1400x600 with 2 Axes>"
            ],
            "image/png": "[encoded data removed]"
          },
          "metadata": {}
        }
      ]
    },
    {
      "cell_type": "code",
      "source": [
        "client = QdrantClient(path=\"hybrid\")"
      ],
      "metadata": {
        "id": "MnZCiJvOEcik"
      },
      "execution_count": 2,
      "outputs": []
    },
    {
      "cell_type": "code",
      "source": [
        "client.set_model(\"BAAI/bge-base-en-v1.5\")\n",
        "# comment this line to use dense vectors only\n",
        "client.set_sparse_model(\"prithivida/Splade_PP_en_v1\")"
      ],
      "metadata": {
        "id": "3WFw7mQBEdhM"
      },
      "execution_count": 22,
      "outputs": []
    },
    {
      "cell_type": "code",
      "source": [
        "client.get_fastembed_vector_params()"
      ],
      "metadata": {
        "colab": {
          "base_uri": "https://localhost:8080/"
        },
        "id": "5WILeLF3aKiY",
        "outputId": "7bb00780-ed73-42c3-a541-37e359e428d0"
      },
      "execution_count": 23,
      "outputs": [
        {
          "output_type": "execute_result",
          "data": {
            "text/plain": [
              "{'fast-bge-base-en-v1.5': VectorParams(size=768, distance=<Distance.COSINE: 'Cosine'>, hnsw_config=None, quantization_config=None, on_disk=None, datatype=None, multivector_config=None)}"
            ]
          },
          "metadata": {},
          "execution_count": 23
        }
      ]
    },
    {
      "cell_type": "code",
      "source": [
        "client.get_fastembed_sparse_vector_params()"
      ],
      "metadata": {
        "colab": {
          "base_uri": "https://localhost:8080/"
        },
        "id": "zmJbXFAlaPpo",
        "outputId": "9f797b26-82b2-4b38-b2bf-419c350310f9"
      },
      "execution_count": 24,
      "outputs": [
        {
          "output_type": "execute_result",
          "data": {
            "text/plain": [
              "{'fast-sparse-splade_pp_en_v1': SparseVectorParams(index=SparseIndexParams(full_scan_threshold=None, on_disk=None, datatype=None), modifier=None)}"
            ]
          },
          "metadata": {},
          "execution_count": 24
        }
      ]
    },
    {
      "cell_type": "code",
      "source": [
        "uuids = [str(uuid4()) for _ in range(len(list_of_documents))]\n",
        "\n",
        "metadata = [doc.metadata for doc in list_of_documents]\n",
        "documents = [doc.page_content for doc in list_of_documents]"
      ],
      "metadata": {
        "id": "QSV6TVDAl6St"
      },
      "execution_count": 25,
      "outputs": []
    },
    {
      "cell_type": "code",
      "source": [
        "len(documents),len(metadata),len(uuids)"
      ],
      "metadata": {
        "colab": {
          "base_uri": "https://localhost:8080/"
        },
        "id": "TSagsCT0DAZv",
        "outputId": "f7e1db8f-60dc-495d-e71d-90f7ada39f74"
      },
      "execution_count": 28,
      "outputs": [
        {
          "output_type": "execute_result",
          "data": {
            "text/plain": [
              "(496, 496, 496)"
            ]
          },
          "metadata": {},
          "execution_count": 28
        }
      ]
    },
    {
      "cell_type": "code",
      "source": [
        "if not client.collection_exists(\"startups\"):\n",
        "    client.create_collection(\n",
        "        collection_name=\"startups\",\n",
        "        vectors_config=client.get_fastembed_vector_params(),\n",
        "        # comment this line to use dense vectors only\n",
        "        sparse_vectors_config=client.get_fastembed_sparse_vector_params(),\n",
        "    )"
      ],
      "metadata": {
        "id": "3dS60scbEgnZ"
      },
      "execution_count": 29,
      "outputs": []
    },
    {
      "cell_type": "code",
      "source": [
        "batch_size = 100\n",
        "print(\"No of Batch -->\",len(documents)//batch_size+1)\n",
        "n = 0\n",
        "for i in range(0,len(documents),batch_size):\n",
        "  n+=1\n",
        "  batch_documents = documents[i:i+batch_size]\n",
        "  batch_uuids = uuids[i:i+batch_size]\n",
        "  batch_metadata = metadata[i:i+batch_size]\n",
        "\n",
        "  client.add(\n",
        "    collection_name=\"startups\",\n",
        "    documents=batch_documents,\n",
        "    metadata=batch_metadata,\n",
        "    ids=batch_uuids,\n",
        "    parallel=0,  # Use all available CPU cores to encode data.\n",
        "  )\n",
        "  print(f\"Batch {n} Done\")"
      ],
      "metadata": {
        "colab": {
          "base_uri": "https://localhost:8080/"
        },
        "id": "fxAsaTkqA0iA",
        "outputId": "6325d9f0-5a13-43b5-f4d9-387aaffcf6fc"
      },
      "execution_count": 30,
      "outputs": [
        {
          "output_type": "stream",
          "name": "stdout",
          "text": [
            "No of Batch --> 5\n",
            "Batch 1 Done\n",
            "Batch 2 Done\n",
            "Batch 3 Done\n",
            "Batch 4 Done\n",
            "Batch 5 Done\n"
          ]
        }
      ]
    },
    {
      "cell_type": "markdown",
      "source": [
        "## Testing"
      ],
      "metadata": {
        "id": "sNw_dR-zGam5"
      }
    },
    {
      "cell_type": "code",
      "source": [
        "# Restart the kernel\n",
        "import os\n",
        "os.kill(os.getpid(), 9)"
      ],
      "metadata": {
        "id": "5aJshjmTGrRs"
      },
      "execution_count": null,
      "outputs": []
    },
    {
      "cell_type": "code",
      "source": [
        "from qdrant_client import QdrantClient\n",
        "class HybridSearcher:\n",
        "    DENSE_MODEL = \"BAAI/bge-base-en-v1.5\"\n",
        "    SPARSE_MODEL = \"prithivida/Splade_PP_en_v1\"\n",
        "    def __init__(self, collection_name,only_dense):\n",
        "        self.collection_name = collection_name\n",
        "        # initialize Qdrant client\n",
        "        self.qdrant_client = QdrantClient(path=\"hybrid\")\n",
        "        self.qdrant_client.set_model(self.DENSE_MODEL)\n",
        "        # comment this line to use dense vectors only\n",
        "        if not only_dense:\n",
        "          self.qdrant_client.set_sparse_model(self.SPARSE_MODEL)\n",
        "    def search(self, text: str):\n",
        "      search_result = self.qdrant_client.query(\n",
        "          collection_name=self.collection_name,\n",
        "          query_text=text,\n",
        "          query_filter=None,  # If you don't want any filters for now\n",
        "          limit=3,  # 5 the closest results\n",
        "      )\n",
        "      # `search_result` contains found vector ids with similarity scores\n",
        "      # along with the stored payload\n",
        "\n",
        "      # Select and return metadata\n",
        "      metadata = [hit.metadata for hit in search_result]\n",
        "      return metadata"
      ],
      "metadata": {
        "id": "sHv1innTGjEl"
      },
      "execution_count": 2,
      "outputs": []
    },
    {
      "cell_type": "code",
      "source": [
        "from google.colab import userdata\n",
        "import os\n",
        "from groq import Groq\n",
        "groq_api_key = userdata.get('GROQ_API_KEY')\n",
        "os.environ[\"GROQ_API_KEY\"] = groq_api_key\n",
        "groq_client = Groq()"
      ],
      "metadata": {
        "id": "2p97-AM8HOBk"
      },
      "execution_count": 3,
      "outputs": []
    },
    {
      "cell_type": "code",
      "source": [
        "def llm_call(query,context):\n",
        "  final_data = \"\"\n",
        "  for each_context in context:\n",
        "    final_data += each_context['document'] +\"-\"*50\n",
        "\n",
        "  user_prompt = f\"\"\"Below is the given context\n",
        "  {final_data}\n",
        "  Answer the following user question: {query}\n",
        "  \"\"\"\n",
        "  sys_prompt = \"You are a helpful assistant to give the answer of user question based on the given context\"\n",
        "  response = groq_client.chat.completions.create(\n",
        "      messages = [\n",
        "          {\"role\": \"system\", \"content\": sys_prompt},\n",
        "          {\"role\": \"user\", \"content\": user_prompt}\n",
        "      ],\n",
        "      model = \"llama-3.1-8b-instant\"\n",
        "  )\n",
        "  output = response.choices[0].message.content\n",
        "  return output"
      ],
      "metadata": {
        "id": "2g0WfWJKq-Ix"
      },
      "execution_count": 4,
      "outputs": []
    },
    {
      "cell_type": "markdown",
      "source": [
        "# Dense Search"
      ],
      "metadata": {
        "id": "r-uL1rTuJzsq"
      }
    },
    {
      "cell_type": "code",
      "source": [
        "query = 'In which tokenizer gemini is trained?'\n",
        "hybrid_searcher = HybridSearcher(collection_name=\"startups\",only_dense=True)\n",
        "doc = hybrid_searcher.search(text=query)\n",
        "doc"
      ],
      "metadata": {
        "colab": {
          "base_uri": "https://localhost:8080/",
          "height": 379,
          "referenced_widgets": [
            "e434eee21d354655846e62fa7b3d87fb",
            "25c45c55eee94cf383aa08e2d25a46b7",
            "4a4a72e4f77d451b94ddb31467b456f6",
            "834cd0cec6074022ba661b20391f0e1d",
            "ba17f6237ff04a07b53bf3e0ef4a90f6",
            "ff0c4ca68dd5468f99cfd29ed90812ea",
            "8710a19a49a143268b9e1614a865d54c",
            "c8550d85ecbe42ba9db0faa56d092860",
            "9d3d5db7941b4279a5d2b7b8db7515d0",
            "108d139fe5464fd6a7afa7bbb688f04f",
            "923e18866652414db0414ab57f4391e7"
          ]
        },
        "id": "w4DEUcuZrEXc",
        "outputId": "d7b8a0f6-f414-44d3-8415-fbfc7536ab67"
      },
      "execution_count": 5,
      "outputs": [
        {
          "output_type": "display_data",
          "data": {
            "text/plain": [
              "Fetching 5 files:   0%|          | 0/5 [00:00<?, ?it/s]"
            ],
            "application/vnd.jupyter.widget-view+json": {
              "version_major": 2,
              "version_minor": 0,
              "model_id": "e434eee21d354655846e62fa7b3d87fb"
            }
          },
          "metadata": {}
        },
        {
          "output_type": "execute_result",
          "data": {
            "text/plain": [
              "[{'document': 'Gemini: A Family of Highly Capable Multimodal Models\\nJeff Stanway, Lorrayne Bennett, Demis Hassabis, Koray Kavukcuoglu, and Geoffrey Irving. Scaling\\nlanguage models: Methods, analysis & insights from training Gopher. CoRR, abs/2112.11446,\\n2021.',\n",
              "  'source': 'gemini.pdf',\n",
              "  'page': 30},\n",
              " {'document': '5.1.5. Long Context\\nGemini models are trained with a sequence length of 32,768 tokens and we find that they make use\\nof their context length effectively. We first verify this by running a synthetic retrieval test: we place\\nkey-value pairs at the beginning of the context, then add long filler text, and ask for value associated\\nwith a particular key. We find that the Ultra model retrieves the correct value with 98% accuracy',\n",
              "  'source': 'gemini.pdf',\n",
              "  'page': 9},\n",
              " {'document': 'We use the SentencePiece tokenizer (Kudo and Richardson, 2018) and find that training the\\ntokenizer on a large sample of the entire training corpus improves the inferred vocabulary and\\nsubsequently improves model performance. For example, we find Gemini models can efficiently\\ntokenize non-Latin scripts which can, in turn, benefit model quality as well as training and inference\\nspeed.\\nThe number of tokens used to train the largest models were determined following the approach',\n",
              "  'source': 'gemini.pdf',\n",
              "  'page': 4}]"
            ]
          },
          "metadata": {},
          "execution_count": 5
        }
      ]
    },
    {
      "cell_type": "markdown",
      "source": [
        "### From dense search as we can see the last document is the retrieved document where answer is present"
      ],
      "metadata": {
        "id": "B5gC280IJ2Q6"
      }
    },
    {
      "cell_type": "code",
      "source": [
        "answer = llm_call(query=query,context=doc)\n",
        "answer"
      ],
      "metadata": {
        "colab": {
          "base_uri": "https://localhost:8080/",
          "height": 35
        },
        "id": "xqXjHyKBKDDx",
        "outputId": "7424ea93-761b-4364-98f9-e93dfaad0e87"
      },
      "execution_count": 8,
      "outputs": [
        {
          "output_type": "execute_result",
          "data": {
            "text/plain": [
              "'Gemini is trained using the SentencePiece tokenizer.'"
            ],
            "application/vnd.google.colaboratory.intrinsic+json": {
              "type": "string"
            }
          },
          "metadata": {},
          "execution_count": 8
        }
      ]
    },
    {
      "cell_type": "markdown",
      "source": [
        "# Hybrid Search"
      ],
      "metadata": {
        "id": "g2IFS5W6Jq1Z"
      }
    },
    {
      "cell_type": "code",
      "source": [
        "# Restart the kernel and then run\n",
        "query = 'In which tokenizer gemini is trained?'\n",
        "hybrid_searcher = HybridSearcher(collection_name=\"startups\",only_dense=False)\n",
        "doc = hybrid_searcher.search(text=query)\n",
        "doc"
      ],
      "metadata": {
        "colab": {
          "base_uri": "https://localhost:8080/",
          "height": 411,
          "referenced_widgets": [
            "82f264ddc42e420b9c073d7fab8b56d3",
            "f07617ef839e4736a0a9752010450d1d",
            "8def56f1e74d413aa43a0f842d821091",
            "b6a85a8e8d094ce49a94286fca91a4f8",
            "a0717b3d04c3463d9845deef8c208a4f",
            "62e50f7edabb4705a1104f25531d722f",
            "dbbf0f44da9c4fc9850305e4f5c2899e",
            "4186f8f3a4044b2389f6794fe6532f99",
            "3ff24aaf1f8d4e99b420f32393530760",
            "b31637d392d643cbaf07098fe099d6b5",
            "deacec773e4244c294f844a0b09f4093",
            "bf849dcba0c74c81a326c4d67c1971a2",
            "fbfe9efe3da14975b1036518b8ce777c",
            "5b7b2ff8a43540118a1c1a9247c75103",
            "8fa1d49a263d4fd99b2ad7d7a874aa00",
            "0b73085ccd4c43e4bb987d350b407da9",
            "84d0798dbca742c6a7fee0c1302a691d",
            "a09742ad37b54c2c98a316938ff24f38",
            "c0595436d2554dd3a8d48316d1ec1466",
            "ff9b9bdcffe9453695ac1ab6657fa487",
            "d5a3889af098490ba0b13df5b1476374",
            "95c3f162b1a0401e95b800dda03b8953"
          ]
        },
        "id": "P3o7U2GZJlri",
        "outputId": "46a75b47-1d49-420f-d6c8-ba065a370957"
      },
      "execution_count": 5,
      "outputs": [
        {
          "output_type": "display_data",
          "data": {
            "text/plain": [
              "Fetching 5 files:   0%|          | 0/5 [00:00<?, ?it/s]"
            ],
            "application/vnd.jupyter.widget-view+json": {
              "version_major": 2,
              "version_minor": 0,
              "model_id": "82f264ddc42e420b9c073d7fab8b56d3"
            }
          },
          "metadata": {}
        },
        {
          "output_type": "display_data",
          "data": {
            "text/plain": [
              "Fetching 5 files:   0%|          | 0/5 [00:00<?, ?it/s]"
            ],
            "application/vnd.jupyter.widget-view+json": {
              "version_major": 2,
              "version_minor": 0,
              "model_id": "bf849dcba0c74c81a326c4d67c1971a2"
            }
          },
          "metadata": {}
        },
        {
          "output_type": "execute_result",
          "data": {
            "text/plain": [
              "[{'document': 'We use the SentencePiece tokenizer (Kudo and Richardson, 2018) and find that training the\\ntokenizer on a large sample of the entire training corpus improves the inferred vocabulary and\\nsubsequently improves model performance. For example, we find Gemini models can efficiently\\ntokenize non-Latin scripts which can, in turn, benefit model quality as well as training and inference\\nspeed.\\nThe number of tokens used to train the largest models were determined following the approach',\n",
              "  'source': 'gemini.pdf',\n",
              "  'page': 4},\n",
              " {'document': '5.1.5. Long Context\\nGemini models are trained with a sequence length of 32,768 tokens and we find that they make use\\nof their context length effectively. We first verify this by running a synthetic retrieval test: we place\\nkey-value pairs at the beginning of the context, then add long filler text, and ask for value associated\\nwith a particular key. We find that the Ultra model retrieves the correct value with 98% accuracy',\n",
              "  'source': 'gemini.pdf',\n",
              "  'page': 9},\n",
              " {'document': 'Gemini: A Family of Highly Capable Multimodal Models\\nJeff Stanway, Lorrayne Bennett, Demis Hassabis, Koray Kavukcuoglu, and Geoffrey Irving. Scaling\\nlanguage models: Methods, analysis & insights from training Gopher. CoRR, abs/2112.11446,\\n2021.',\n",
              "  'source': 'gemini.pdf',\n",
              "  'page': 30}]"
            ]
          },
          "metadata": {},
          "execution_count": 5
        }
      ]
    },
    {
      "cell_type": "markdown",
      "source": [
        "### As we can see by the help of hybrid search we can get more accurate result in this case first document is the answer document"
      ],
      "metadata": {
        "id": "bugQF_JTKkQA"
      }
    },
    {
      "cell_type": "code",
      "source": [
        "answer = llm_call(query=query,context=doc)\n",
        "answer"
      ],
      "metadata": {
        "colab": {
          "base_uri": "https://localhost:8080/",
          "height": 35
        },
        "id": "HcdDm_K3JD_l",
        "outputId": "882840e6-3c8e-4a88-9491-d75cdd061a2e"
      },
      "execution_count": 6,
      "outputs": [
        {
          "output_type": "execute_result",
          "data": {
            "text/plain": [
              "'Gemini is trained using the SentencePiece tokenizer.'"
            ],
            "application/vnd.google.colaboratory.intrinsic+json": {
              "type": "string"
            }
          },
          "metadata": {},
          "execution_count": 6
        }
      ]
    }
  ]
}